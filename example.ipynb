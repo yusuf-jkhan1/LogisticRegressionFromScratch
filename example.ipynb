{
 "metadata": {
  "language_info": {
   "codemirror_mode": {
    "name": "ipython",
    "version": 3
   },
   "file_extension": ".py",
   "mimetype": "text/x-python",
   "name": "python",
   "nbconvert_exporter": "python",
   "pygments_lexer": "ipython3",
   "version": "3.7.4-final"
  },
  "orig_nbformat": 2,
  "kernelspec": {
   "name": "python3",
   "display_name": "Python 3",
   "language": "python"
  }
 },
 "nbformat": 4,
 "nbformat_minor": 2,
 "cells": [
  {
   "cell_type": "code",
   "execution_count": 1,
   "metadata": {},
   "outputs": [],
   "source": [
    "import pandas as pd\n",
    "import numpy as np\n",
    "from sklearn.linear_model import LogisticRegression\n",
    "import log_reg"
   ]
  },
  {
   "cell_type": "code",
   "execution_count": 2,
   "metadata": {},
   "outputs": [],
   "source": [
    "occupancy_df = pd.read_csv(\"data/occupancy.csv\")\n",
    "positive_rate = occupancy_df[\"Occupancy\"].sum()/occupancy_df.shape[0]"
   ]
  },
  {
   "cell_type": "code",
   "execution_count": 3,
   "metadata": {},
   "outputs": [
    {
     "output_type": "execute_result",
     "data": {
      "text/plain": [
       "0.9253346432518728"
      ]
     },
     "metadata": {},
     "execution_count": 3
    }
   ],
   "source": [
    "X = occupancy_df[[\"Temperature\",\"Humidity\",\"CO2\"]]\n",
    "y = occupancy_df[[\"Occupancy\"]]"
   ]
  },
  {
   "cell_type": "code",
   "execution_count": 4,
   "metadata": {},
   "outputs": [
    {
     "output_type": "execute_result",
     "data": {
      "text/plain": [
       "0.9253346432518728"
      ]
     },
     "metadata": {},
     "execution_count": 4
    }
   ],
   "source": [
    "sklearn_logistic_regression = LogisticRegression()\n",
    "sklearn_logistic_regression.fit(X,y)\n",
    "sklearn_logistic_regression.score(X,y)"
   ]
  },
  {
   "cell_type": "code",
   "execution_count": 5,
   "metadata": {
    "tags": []
   },
   "outputs": [
    {
     "output_type": "execute_result",
     "data": {
      "text/plain": [
       "0.9221417168119858"
      ]
     },
     "metadata": {},
     "execution_count": 5
    }
   ],
   "source": [
    "scratch_logistic_regression = log_reg.LogisticReg()\n",
    "scratch_logistic_regression.fit(X,y)\n",
    "scratch_logistic_regression.score"
   ]
  }
 ]
}